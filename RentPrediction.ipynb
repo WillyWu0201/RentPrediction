{
 "cells": [
  {
   "cell_type": "code",
   "execution_count": 692,
   "metadata": {
    "collapsed": true
   },
   "outputs": [],
   "source": [
    "# !/usr/bin/python\n",
    "# -*- coding: utf-8 -*-\n",
    "from math import log\n",
    "from PIL import Image, ImageDraw\n",
    "from IPython.display import Image"
   ]
  },
  {
   "cell_type": "code",
   "execution_count": 693,
   "metadata": {
    "collapsed": true
   },
   "outputs": [],
   "source": [
    "def is_number(s):\n",
    "    try:\n",
    "        complex(s) # for int, long, float and complex\n",
    "    except ValueError:\n",
    "        return False\n",
    "\n",
    "    return True"
   ]
  },
  {
   "cell_type": "code",
   "execution_count": 694,
   "metadata": {},
   "outputs": [
    {
     "name": "stdout",
     "output_type": "stream",
     "text": [
      "['Cianjhen', 'land-building', 52.92, '1-1-0', 'All', 2.0, 750730.0, 122.99, 4.0, 2.0, 3.0, 'T', 'F', 'F', 110.0, '', 0.0, 0.0, 'Peoples House', 13500.0]\n",
      "['Lingya', 'land-building-car', 4.54, '1-1-1', '28th', 35.0, 860421.0, 133.92000000000002, 3.0, 2.0, 2.0, 'T', 'T', 'T', 101.0, 'Flat', 12.65, 0.0, 'Residential building', 13500.0]\n",
      "['Zuoying', 'land-building', 55.52, '1-1-0', 'All', 5.0, 930713.0, 27.14, 0.0, 0.0, 1.0, 'T', 'F', 'F', 553.0, '', 0.0, 0.0, 'Peoples House', 15000.0]\n",
      "['Zuoying', 'land-building', 55.52, '1-1-0', 'All', 5.0, 930713.0, 153.27, 6.0, 2.0, 3.0, 'T', 'F', 'F', 98.0, '', 0.0, 0.0, 'Peoples House', 15000.0]\n",
      "['Nanzih', 'land-building-car', 9.97, '1-1-1', '6th', 15.0, 1050224.0, 130.46, 2.0, 2.0, 2.0, 'T', 'T', 'T', 115.0, 'Machinery', 0.0, 0.0, 'Residential building', 15000.0]\n",
      "['Sanmin', 'building', 57.0, '0-1-0', 'All', 3.0, 631108.0, 109.02, 5.0, 1.0, 3.0, 'T', 'F', 'T', 147.0, '', 0.0, 0.0, 'Peoples House', 16000.0]\n",
      "['Sanmin', 'building', 0.0, '0-1-0', '14th', 18.0, 830523.0, 116.64, 4.0, 2.0, 2.0, 'T', 'T', 'T', 154.0, '', 0.0, 0.0, 'Residential building', 18000.0]\n",
      "['Lujhu', 'land-building', 78.81, '1-1-0', 'All', 4.0, 811204.0, 185.72, 5.0, 2.0, 3.0, 'T', 'F', 'F', 97.0, '', 0.0, 0.0, 'Peoples House', 18000.0]\n",
      "['Xinxing', 'building', 0.0, '0-1-0', '12th', 12.0, 841214.0, 168.88, 0.0, 0.0, 0.0, 'F', 'F', 'F', 113.0, '', 0.0, 0.0, 'Office Commercial Building', 19000.0]\n",
      "['Xinxing', 'building', 0.0, '0-1-0', '1st', 11.0, 690604.0, 87.36, 0.0, 0.0, 0.0, 'F', 'F', 'F', 298.0, '', 0.0, 0.0, 'Storefront', 26000.0]\n",
      "['Cianjhen', 'land-building', 81.0, '1-1-0', 'All', 4.0, 660131.0, 219.96, 6.0, 2.0, 3.0, 'T', 'F', 'T', 127.0, '', 0.0, 0.0, 'Peoples House', 28000.0]\n",
      "['Renwu', 'building', 694.49, '0-1-0', 'All', 4.0, 1060330.0, 257.73, 0.0, 0.0, 0.0, 'F', 'F', 'F', 120.0, '', 0.0, 0.0, 'Peoples House', 31000.0]\n",
      "12\n"
     ]
    }
   ],
   "source": [
    "# create ratings.dat dictionary\n",
    "rentOriginalData = open(\"./RentData/SmallTestData.csv\",\"r\")\n",
    "rentData = []\n",
    "\n",
    "for rent in rentOriginalData:\n",
    "    # 去掉\\n後，用,區分\n",
    "    tempArray = []\n",
    "    for value in rent.strip().split(','):\n",
    "        if is_number(value):\n",
    "            tempArray.append(float(value))\n",
    "        else:\n",
    "            tempArray.append(value)\n",
    "                \n",
    "            \n",
    "    rentData.append(tempArray)\n",
    "    print (tempArray)\n",
    "\n",
    "print (len(rentData))"
   ]
  },
  {
   "cell_type": "code",
   "execution_count": 695,
   "metadata": {
    "collapsed": true
   },
   "outputs": [],
   "source": [
    "class decisionnode:\n",
    "  def __init__(self,col=-1,value=None,results=None,tb=None,fb=None):\n",
    "    self.col = col\n",
    "    self.value = value\n",
    "    self.results = results\n",
    "    self.tb = tb\n",
    "    self.fb = fb\n",
    "    \n",
    "    \n",
    "# Divides a set on a specific column. Can handle numeric\n",
    "# or nominal values\n",
    "def divideset(rows,column,value):\n",
    "   # Make a function that tells us if a row is in \n",
    "   # the first group (true) or the second group (false)\n",
    "   split_function = None\n",
    "   if isinstance(value,int) or isinstance(value,float):\n",
    "      split_function = lambda row:row[column] >= value\n",
    "   else:\n",
    "      split_function = lambda row:row[column] == value\n",
    "   \n",
    "   # Divide the rows into two sets and return them\n",
    "   set1=[row for row in rows if split_function(row)]\n",
    "   set2=[row for row in rows if not split_function(row)]\n",
    "   return (set1,set2)"
   ]
  },
  {
   "cell_type": "code",
   "execution_count": 696,
   "metadata": {},
   "outputs": [
    {
     "data": {
      "text/plain": [
       "([['Lujhu',\n",
       "   'land-building',\n",
       "   78.81,\n",
       "   '1-1-0',\n",
       "   'All',\n",
       "   4.0,\n",
       "   811204.0,\n",
       "   185.72,\n",
       "   5.0,\n",
       "   2.0,\n",
       "   3.0,\n",
       "   'T',\n",
       "   'F',\n",
       "   'F',\n",
       "   97.0,\n",
       "   '',\n",
       "   0.0,\n",
       "   0.0,\n",
       "   'Peoples House',\n",
       "   18000.0],\n",
       "  ['Cianjhen',\n",
       "   'land-building',\n",
       "   81.0,\n",
       "   '1-1-0',\n",
       "   'All',\n",
       "   4.0,\n",
       "   660131.0,\n",
       "   219.96,\n",
       "   6.0,\n",
       "   2.0,\n",
       "   3.0,\n",
       "   'T',\n",
       "   'F',\n",
       "   'T',\n",
       "   127.0,\n",
       "   '',\n",
       "   0.0,\n",
       "   0.0,\n",
       "   'Peoples House',\n",
       "   28000.0],\n",
       "  ['Renwu',\n",
       "   'building',\n",
       "   694.49,\n",
       "   '0-1-0',\n",
       "   'All',\n",
       "   4.0,\n",
       "   1060330.0,\n",
       "   257.73,\n",
       "   0.0,\n",
       "   0.0,\n",
       "   0.0,\n",
       "   'F',\n",
       "   'F',\n",
       "   'F',\n",
       "   120.0,\n",
       "   '',\n",
       "   0.0,\n",
       "   0.0,\n",
       "   'Peoples House',\n",
       "   31000.0]],\n",
       " [['Cianjhen',\n",
       "   'land-building',\n",
       "   52.92,\n",
       "   '1-1-0',\n",
       "   'All',\n",
       "   2.0,\n",
       "   750730.0,\n",
       "   122.99,\n",
       "   4.0,\n",
       "   2.0,\n",
       "   3.0,\n",
       "   'T',\n",
       "   'F',\n",
       "   'F',\n",
       "   110.0,\n",
       "   '',\n",
       "   0.0,\n",
       "   0.0,\n",
       "   'Peoples House',\n",
       "   13500.0],\n",
       "  ['Lingya',\n",
       "   'land-building-car',\n",
       "   4.54,\n",
       "   '1-1-1',\n",
       "   '28th',\n",
       "   35.0,\n",
       "   860421.0,\n",
       "   133.92000000000002,\n",
       "   3.0,\n",
       "   2.0,\n",
       "   2.0,\n",
       "   'T',\n",
       "   'T',\n",
       "   'T',\n",
       "   101.0,\n",
       "   'Flat',\n",
       "   12.65,\n",
       "   0.0,\n",
       "   'Residential building',\n",
       "   13500.0],\n",
       "  ['Zuoying',\n",
       "   'land-building',\n",
       "   55.52,\n",
       "   '1-1-0',\n",
       "   'All',\n",
       "   5.0,\n",
       "   930713.0,\n",
       "   27.14,\n",
       "   0.0,\n",
       "   0.0,\n",
       "   1.0,\n",
       "   'T',\n",
       "   'F',\n",
       "   'F',\n",
       "   553.0,\n",
       "   '',\n",
       "   0.0,\n",
       "   0.0,\n",
       "   'Peoples House',\n",
       "   15000.0],\n",
       "  ['Zuoying',\n",
       "   'land-building',\n",
       "   55.52,\n",
       "   '1-1-0',\n",
       "   'All',\n",
       "   5.0,\n",
       "   930713.0,\n",
       "   153.27,\n",
       "   6.0,\n",
       "   2.0,\n",
       "   3.0,\n",
       "   'T',\n",
       "   'F',\n",
       "   'F',\n",
       "   98.0,\n",
       "   '',\n",
       "   0.0,\n",
       "   0.0,\n",
       "   'Peoples House',\n",
       "   15000.0],\n",
       "  ['Nanzih',\n",
       "   'land-building-car',\n",
       "   9.97,\n",
       "   '1-1-1',\n",
       "   '6th',\n",
       "   15.0,\n",
       "   1050224.0,\n",
       "   130.46,\n",
       "   2.0,\n",
       "   2.0,\n",
       "   2.0,\n",
       "   'T',\n",
       "   'T',\n",
       "   'T',\n",
       "   115.0,\n",
       "   'Machinery',\n",
       "   0.0,\n",
       "   0.0,\n",
       "   'Residential building',\n",
       "   15000.0],\n",
       "  ['Sanmin',\n",
       "   'building',\n",
       "   57.0,\n",
       "   '0-1-0',\n",
       "   'All',\n",
       "   3.0,\n",
       "   631108.0,\n",
       "   109.02,\n",
       "   5.0,\n",
       "   1.0,\n",
       "   3.0,\n",
       "   'T',\n",
       "   'F',\n",
       "   'T',\n",
       "   147.0,\n",
       "   '',\n",
       "   0.0,\n",
       "   0.0,\n",
       "   'Peoples House',\n",
       "   16000.0],\n",
       "  ['Sanmin',\n",
       "   'building',\n",
       "   0.0,\n",
       "   '0-1-0',\n",
       "   '14th',\n",
       "   18.0,\n",
       "   830523.0,\n",
       "   116.64,\n",
       "   4.0,\n",
       "   2.0,\n",
       "   2.0,\n",
       "   'T',\n",
       "   'T',\n",
       "   'T',\n",
       "   154.0,\n",
       "   '',\n",
       "   0.0,\n",
       "   0.0,\n",
       "   'Residential building',\n",
       "   18000.0],\n",
       "  ['Xinxing',\n",
       "   'building',\n",
       "   0.0,\n",
       "   '0-1-0',\n",
       "   '12th',\n",
       "   12.0,\n",
       "   841214.0,\n",
       "   168.88,\n",
       "   0.0,\n",
       "   0.0,\n",
       "   0.0,\n",
       "   'F',\n",
       "   'F',\n",
       "   'F',\n",
       "   113.0,\n",
       "   '',\n",
       "   0.0,\n",
       "   0.0,\n",
       "   'Office Commercial Building',\n",
       "   19000.0],\n",
       "  ['Xinxing',\n",
       "   'building',\n",
       "   0.0,\n",
       "   '0-1-0',\n",
       "   '1st',\n",
       "   11.0,\n",
       "   690604.0,\n",
       "   87.36,\n",
       "   0.0,\n",
       "   0.0,\n",
       "   0.0,\n",
       "   'F',\n",
       "   'F',\n",
       "   'F',\n",
       "   298.0,\n",
       "   '',\n",
       "   0.0,\n",
       "   0.0,\n",
       "   'Storefront',\n",
       "   26000.0]])"
      ]
     },
     "execution_count": 696,
     "metadata": {},
     "output_type": "execute_result"
    }
   ],
   "source": [
    "divideset(rentData,2,60)\n",
    "# divideset(rentData,1,'land-building-car')"
   ]
  },
  {
   "cell_type": "code",
   "execution_count": 697,
   "metadata": {
    "collapsed": true
   },
   "outputs": [],
   "source": [
    "# Create counts of possible results (the last column of \n",
    "# each row is the result)\n",
    "def uniquecounts(rows):\n",
    "   results={}\n",
    "   for row in rows:\n",
    "      # The result is the last column\n",
    "      r=row[len(row)-1]\n",
    "      if r not in results: results[r]=0\n",
    "      results[r]+=1\n",
    "   return results"
   ]
  },
  {
   "cell_type": "code",
   "execution_count": 698,
   "metadata": {
    "collapsed": true
   },
   "outputs": [],
   "source": [
    "# Probability that a randomly placed item will\n",
    "# be in the wrong category\n",
    "def giniimpurity(rows):\n",
    "  total=len(rows)\n",
    "  counts=uniquecounts(rows)\n",
    "  imp=0\n",
    "  for k1 in counts:\n",
    "    p1=float(counts[k1])/total\n",
    "    for k2 in counts:\n",
    "      if k1==k2: continue\n",
    "      p2=float(counts[k2])/total\n",
    "      imp+=p1*p2\n",
    "  return imp"
   ]
  },
  {
   "cell_type": "code",
   "execution_count": 699,
   "metadata": {
    "collapsed": true
   },
   "outputs": [],
   "source": [
    "# Entropy is the sum of p(x)log(p(x)) across all \n",
    "# the different possible results\n",
    "def entropy(rows):\n",
    "   from math import log\n",
    "   log2=lambda x:log(x)/log(2)  \n",
    "   results=uniquecounts(rows)\n",
    "   # Now calculate the entropy\n",
    "   ent=0.0\n",
    "   for r in results.keys():\n",
    "      p=float(results[r])/len(rows)\n",
    "      ent=ent-p*log2(p)\n",
    "   return ent"
   ]
  },
  {
   "cell_type": "code",
   "execution_count": 700,
   "metadata": {
    "collapsed": true
   },
   "outputs": [],
   "source": [
    "def variance(rows):\n",
    "  if len(rows)==0: return 0\n",
    "  data=[float(row[len(row)-1]) for row in rows]\n",
    "  mean=sum(data)/len(data)\n",
    "  variance=sum([(d-mean)**2 for d in data])/len(data)\n",
    "  return variance"
   ]
  },
  {
   "cell_type": "code",
   "execution_count": 701,
   "metadata": {},
   "outputs": [
    {
     "data": {
      "text/plain": [
       "0.8472222222222213"
      ]
     },
     "execution_count": 701,
     "metadata": {},
     "output_type": "execute_result"
    }
   ],
   "source": [
    "giniimpurity(rentData)"
   ]
  },
  {
   "cell_type": "code",
   "execution_count": 702,
   "metadata": {},
   "outputs": [
    {
     "data": {
      "text/plain": [
       "2.8553885422075336"
      ]
     },
     "execution_count": 702,
     "metadata": {},
     "output_type": "execute_result"
    }
   ],
   "source": [
    "entropy(rentData)"
   ]
  },
  {
   "cell_type": "code",
   "execution_count": 703,
   "metadata": {},
   "outputs": [
    {
     "data": {
      "text/plain": [
       "{13500.0: 2,\n",
       " 15000.0: 3,\n",
       " 16000.0: 1,\n",
       " 18000.0: 2,\n",
       " 19000.0: 1,\n",
       " 26000.0: 1,\n",
       " 28000.0: 1,\n",
       " 31000.0: 1}"
      ]
     },
     "execution_count": 703,
     "metadata": {},
     "output_type": "execute_result"
    }
   ],
   "source": [
    "uniquecounts(rentData)"
   ]
  },
  {
   "cell_type": "code",
   "execution_count": 704,
   "metadata": {
    "collapsed": true
   },
   "outputs": [],
   "source": [
    "set1,set2=divideset(rentData,1,'land-building-car')"
   ]
  },
  {
   "cell_type": "code",
   "execution_count": 705,
   "metadata": {},
   "outputs": [
    {
     "data": {
      "text/plain": [
       "1.0"
      ]
     },
     "execution_count": 705,
     "metadata": {},
     "output_type": "execute_result"
    }
   ],
   "source": [
    "entropy(set1)"
   ]
  },
  {
   "cell_type": "code",
   "execution_count": 706,
   "metadata": {},
   "outputs": [
    {
     "data": {
      "text/plain": [
       "2.9219280948873623"
      ]
     },
     "execution_count": 706,
     "metadata": {},
     "output_type": "execute_result"
    }
   ],
   "source": [
    "entropy(set2)"
   ]
  },
  {
   "cell_type": "code",
   "execution_count": 707,
   "metadata": {
    "collapsed": true
   },
   "outputs": [],
   "source": [
    "def buildtree(rows,scoref=giniimpurity):\n",
    "  if len(rows)==0: return decisionnode()\n",
    "  current_score=scoref(rows)\n",
    "\n",
    "  # Set up some variables to track the best criteria\n",
    "  best_gain=0.0\n",
    "  best_criteria=None\n",
    "  best_sets=None\n",
    "  \n",
    "  column_count=len(rows[0])-1\n",
    "  for col in range(0,column_count):\n",
    "    # Generate the list of different values in\n",
    "    # this column\n",
    "    column_values={}\n",
    "    for row in rows:\n",
    "       column_values[row[col]]=1\n",
    "    # Now try dividing the rows up for each value\n",
    "    # in this column\n",
    "    for value in column_values.keys():\n",
    "      (set1,set2)=divideset(rows,col,value)\n",
    "      \n",
    "      # Information gain\n",
    "      p=float(len(set1))/len(rows)\n",
    "      gain=current_score-p*scoref(set1)-(1-p)*scoref(set2)\n",
    "      if gain>best_gain and len(set1)>0 and len(set2)>0:\n",
    "        best_gain=gain\n",
    "        best_criteria=(col,value)\n",
    "        best_sets=(set1,set2)\n",
    "  # Create the sub branches   \n",
    "  if best_gain>0:\n",
    "    trueBranch=buildtree(best_sets[0])\n",
    "    falseBranch=buildtree(best_sets[1])\n",
    "    return decisionnode(col=best_criteria[0],value=best_criteria[1],\n",
    "                        tb=trueBranch,fb=falseBranch)\n",
    "  else:\n",
    "    return decisionnode(results=uniquecounts(rows))"
   ]
  },
  {
   "cell_type": "code",
   "execution_count": 708,
   "metadata": {
    "collapsed": true
   },
   "outputs": [],
   "source": [
    "dtree = buildtree(rentData)"
   ]
  },
  {
   "cell_type": "code",
   "execution_count": 709,
   "metadata": {
    "collapsed": true
   },
   "outputs": [],
   "source": [
    "def printtree(tree,indent=''):\n",
    "   # Is this a leaf node?\n",
    "   if tree.results!=None:\n",
    "      print (str(tree.results))\n",
    "   else:\n",
    "      # Print the criteria\n",
    "      print (str(tree.col)+':'+str(tree.value)+'? ')\n",
    "\n",
    "      # Print the branches\n",
    "      print (indent+'T->'),\n",
    "      printtree(tree.tb,indent+'  ')\n",
    "      print (indent+'F->'),\n",
    "      printtree(tree.fb,indent+'  ')\n",
    "\n",
    "\n",
    "def getwidth(tree):\n",
    "  if tree.tb==None and tree.fb==None: return 1\n",
    "  return getwidth(tree.tb)+getwidth(tree.fb)\n",
    "\n",
    "def getdepth(tree):\n",
    "  if tree.tb==None and tree.fb==None: return 0\n",
    "  return max(getdepth(tree.tb),getdepth(tree.fb))+1"
   ]
  },
  {
   "cell_type": "code",
   "execution_count": 710,
   "metadata": {},
   "outputs": [
    {
     "name": "stdout",
     "output_type": "stream",
     "text": [
      "6:930713.0? \n",
      "T->\n",
      "0:Renwu? \n",
      "  T->\n",
      "{31000.0: 1}\n",
      "  F->\n",
      "{15000.0: 3}\n",
      "F->\n",
      "6:750730.0? \n",
      "  T->\n",
      "0:Xinxing? \n",
      "    T->\n",
      "{19000.0: 1}\n",
      "    F->\n",
      "0:Cianjhen? \n",
      "      T->\n",
      "{13500.0: 1}\n",
      "      F->\n",
      "0:Lingya? \n",
      "        T->\n",
      "{13500.0: 1}\n",
      "        F->\n",
      "{18000.0: 2}\n",
      "  F->\n",
      "1:building? \n",
      "    T->\n",
      "0:Sanmin? \n",
      "      T->\n",
      "{16000.0: 1}\n",
      "      F->\n",
      "{26000.0: 1}\n",
      "    F->\n",
      "{28000.0: 1}\n"
     ]
    }
   ],
   "source": [
    "printtree(dtree)"
   ]
  },
  {
   "cell_type": "code",
   "execution_count": 711,
   "metadata": {
    "collapsed": true
   },
   "outputs": [],
   "source": [
    "from PIL import Image,ImageDraw\n",
    "\n",
    "def drawtree(tree,jpeg='tree.jpg'):\n",
    "  w=getwidth(tree)*100\n",
    "  h=getdepth(tree)*100+120\n",
    "\n",
    "  img=Image.new('RGB',(w,h),(255,255,255))\n",
    "  draw=ImageDraw.Draw(img)\n",
    "\n",
    "  drawnode(draw,tree,w/2,20)\n",
    "  img.save(jpeg,'JPEG')\n",
    "  \n",
    "def drawnode(draw,tree,x,y):\n",
    "  if tree.results==None:\n",
    "    # Get the width of each branch\n",
    "    w1=getwidth(tree.fb)*100\n",
    "    w2=getwidth(tree.tb)*100\n",
    "\n",
    "    # Determine the total space required by this node\n",
    "    left=x-(w1+w2)/2\n",
    "    right=x+(w1+w2)/2\n",
    "\n",
    "    # Draw the condition string\n",
    "    draw.text((x-20,y-10),str(tree.col)+':'+str(tree.value),(0,0,0))\n",
    "\n",
    "    # Draw links to the branches\n",
    "    draw.line((x,y,left+w1/2,y+100),fill=(255,0,0))\n",
    "    draw.line((x,y,right-w2/2,y+100),fill=(255,0,0))\n",
    "    \n",
    "    # Draw the branch nodes\n",
    "    drawnode(draw,tree.fb,left+w1/2,y+100)\n",
    "    drawnode(draw,tree.tb,right-w2/2,y+100)\n",
    "  else:\n",
    "    txt=' \\n'.join(['%s:%d'%v for v in tree.results.items()])\n",
    "    draw.text((x-20,y),txt,(0,0,0))"
   ]
  },
  {
   "cell_type": "code",
   "execution_count": 712,
   "metadata": {
    "collapsed": true
   },
   "outputs": [],
   "source": [
    "drawtree(dtree,jpeg='treeview.jpg')"
   ]
  },
  {
   "cell_type": "code",
   "execution_count": 713,
   "metadata": {
    "scrolled": true
   },
   "outputs": [
    {
     "data": {
      "image/jpeg": "[encoded data removed]",
      "text/plain": [
       "<IPython.core.display.Image object>"
      ]
     },
     "execution_count": 713,
     "metadata": {},
     "output_type": "execute_result"
    }
   ],
   "source": [
    "from IPython.display import Image\n",
    "Image(filename='treeview.jpg')"
   ]
  }
 ],
 "metadata": {
  "kernelspec": {
   "display_name": "Python 3",
   "language": "python",
   "name": "python3"
  },
  "language_info": {
   "codemirror_mode": {
    "name": "ipython",
    "version": 3
   },
   "file_extension": ".py",
   "mimetype": "text/x-python",
   "name": "python",
   "nbconvert_exporter": "python",
   "pygments_lexer": "ipython3",
   "version": "3.6.2"
  }
 },
 "nbformat": 4,
 "nbformat_minor": 2
}
