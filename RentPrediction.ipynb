{
 "cells": [
  {
   "cell_type": "code",
   "execution_count": 524,
   "metadata": {
    "collapsed": true
   },
   "outputs": [],
   "source": [
    "# !/usr/bin/python\n",
    "# -*- coding: utf-8 -*-\n",
    "from math import log\n",
    "from PIL import Image, ImageDraw\n",
    "from IPython.display import Image"
   ]
  },
  {
   "cell_type": "code",
   "execution_count": 525,
   "metadata": {},
   "outputs": [
    {
     "name": "stdout",
     "output_type": "stream",
     "text": [
      "Cianjhen,land-building,52.92,Live,1060916,1-1-0,All,2,,750730,122.99,4,2,3,T,F,F,110,,0,0,Peoples House,13500\n",
      "\n",
      "Lingya,land-building-car,4.54,Live,1060916,1-1-1,28th,35,For Living,860421,133.92000000000002,3,2,2,T,T,T,101,Flat,12.65,0,Residential building,13500\n",
      "\n",
      "Zuoying,land-building,55.52,Live,1060820,1-1-0,All,5,For Business,930713,27.14,0,0,1,T,F,F,553,,0,0,Peoples House,15000\n",
      "\n",
      "Zuoying,land-building,55.52,Live,1060820,1-1-0,All,5,For Business,930713,153.27,6,2,3,T,F,F,98,,0,0,Peoples House,15000\n",
      "\n",
      "Nanzih,land-building-car,9.97,Business,1060915,1-1-1,6th,15,Other,1050224,130.46,2,2,2,T,T,T,115,Machinery,0,0,Residential building,15000\n",
      "\n",
      "Sanmin,building,57,Live,1060916,0-1-0,All,3,,631108,109.02,5,1,3,T,F,T,147,,0,0,Peoples House,16000\n",
      "\n",
      "Sanmin,building,0,Business,1060828,0-1-0,14th,18,For Living,830523,116.64,4,2,2,T,T,T,154,,0,0,Residential building,18000\n",
      "\n",
      "Lujhu,land-building,78.81,Live,1060918,1-1-0,All,4,For Business,811204,185.72,5,2,3,T,F,F,97,,0,0,Peoples House,18000\n",
      "\n",
      "Xinxing,building,0,Business,1060911,0-1-0,12th,12,For Living,841214,168.88,0,0,0,F,F,F,113,,0,0,Office Commercial Building,19000\n",
      "\n",
      "Xinxing,building,0,Business,1060917,0-1-0,1st,11,,690604,87.36,0,0,0,F,F,F,298,,0,0,Storefront,26000\n",
      "\n",
      "Cianjhen,land-building,81,Live,1060901,1-1-0,All,4,,660131,219.96,6,2,3,T,F,T,127,,0,0,Peoples House,28000\n",
      "\n",
      "Renwu,building,694.49,Live,1060829,0-1-0,All,4,Other,1060330,257.73,0,0,0,F,F,F,120,,0,0,Peoples House,31000\n",
      "12\n"
     ]
    }
   ],
   "source": [
    "# create ratings.dat dictionary\n",
    "rentOriginalData = open(\"./RentData/SmallTestData.csv\",\"r\")\n",
    "rentData = []\n",
    "\n",
    "for rent in rentOriginalData:\n",
    "    # 去掉\\n後，用,區分\n",
    "    rentData.append(rent.strip().split(','))\n",
    "    print (rent)\n",
    "\n",
    "print (len(rentData))"
   ]
  },
  {
   "cell_type": "code",
   "execution_count": 526,
   "metadata": {
    "collapsed": true
   },
   "outputs": [],
   "source": [
    "class decisionnode:\n",
    "  def __init__(self,col=-1,value=None,results=None,tb=None,fb=None):\n",
    "    self.col = col\n",
    "    self.value = value\n",
    "    self.results = results\n",
    "    self.tb = tb\n",
    "    self.fb = fb\n",
    "    \n",
    "    \n",
    "# Divides a set on a specific column. Can handle numeric\n",
    "# or nominal values\n",
    "def divideset(rows,column,value):\n",
    "   # Make a function that tells us if a row is in \n",
    "   # the first group (true) or the second group (false)\n",
    "   split_function = None\n",
    "   if isinstance(value,int) or isinstance(value,float):\n",
    "      split_function = lambda row:row[column] >= value\n",
    "   else:\n",
    "      split_function = lambda row:row[column] == value\n",
    "   \n",
    "   # Divide the rows into two sets and return them\n",
    "   set1=[row for row in rows if split_function(row)]\n",
    "   set2=[row for row in rows if not split_function(row)]\n",
    "   return (set1,set2)"
   ]
  },
  {
   "cell_type": "code",
   "execution_count": 527,
   "metadata": {},
   "outputs": [
    {
     "data": {
      "text/plain": [
       "([['Lingya',\n",
       "   'land-building-car',\n",
       "   '4.54',\n",
       "   'Live',\n",
       "   '1060916',\n",
       "   '1-1-1',\n",
       "   '28th',\n",
       "   '35',\n",
       "   'For Living',\n",
       "   '860421',\n",
       "   '133.92000000000002',\n",
       "   '3',\n",
       "   '2',\n",
       "   '2',\n",
       "   'T',\n",
       "   'T',\n",
       "   'T',\n",
       "   '101',\n",
       "   'Flat',\n",
       "   '12.65',\n",
       "   '0',\n",
       "   'Residential building',\n",
       "   '13500'],\n",
       "  ['Nanzih',\n",
       "   'land-building-car',\n",
       "   '9.97',\n",
       "   'Business',\n",
       "   '1060915',\n",
       "   '1-1-1',\n",
       "   '6th',\n",
       "   '15',\n",
       "   'Other',\n",
       "   '1050224',\n",
       "   '130.46',\n",
       "   '2',\n",
       "   '2',\n",
       "   '2',\n",
       "   'T',\n",
       "   'T',\n",
       "   'T',\n",
       "   '115',\n",
       "   'Machinery',\n",
       "   '0',\n",
       "   '0',\n",
       "   'Residential building',\n",
       "   '15000']],\n",
       " [['Cianjhen',\n",
       "   'land-building',\n",
       "   '52.92',\n",
       "   'Live',\n",
       "   '1060916',\n",
       "   '1-1-0',\n",
       "   'All',\n",
       "   '2',\n",
       "   '',\n",
       "   '750730',\n",
       "   '122.99',\n",
       "   '4',\n",
       "   '2',\n",
       "   '3',\n",
       "   'T',\n",
       "   'F',\n",
       "   'F',\n",
       "   '110',\n",
       "   '',\n",
       "   '0',\n",
       "   '0',\n",
       "   'Peoples House',\n",
       "   '13500'],\n",
       "  ['Zuoying',\n",
       "   'land-building',\n",
       "   '55.52',\n",
       "   'Live',\n",
       "   '1060820',\n",
       "   '1-1-0',\n",
       "   'All',\n",
       "   '5',\n",
       "   'For Business',\n",
       "   '930713',\n",
       "   '27.14',\n",
       "   '0',\n",
       "   '0',\n",
       "   '1',\n",
       "   'T',\n",
       "   'F',\n",
       "   'F',\n",
       "   '553',\n",
       "   '',\n",
       "   '0',\n",
       "   '0',\n",
       "   'Peoples House',\n",
       "   '15000'],\n",
       "  ['Zuoying',\n",
       "   'land-building',\n",
       "   '55.52',\n",
       "   'Live',\n",
       "   '1060820',\n",
       "   '1-1-0',\n",
       "   'All',\n",
       "   '5',\n",
       "   'For Business',\n",
       "   '930713',\n",
       "   '153.27',\n",
       "   '6',\n",
       "   '2',\n",
       "   '3',\n",
       "   'T',\n",
       "   'F',\n",
       "   'F',\n",
       "   '98',\n",
       "   '',\n",
       "   '0',\n",
       "   '0',\n",
       "   'Peoples House',\n",
       "   '15000'],\n",
       "  ['Sanmin',\n",
       "   'building',\n",
       "   '57',\n",
       "   'Live',\n",
       "   '1060916',\n",
       "   '0-1-0',\n",
       "   'All',\n",
       "   '3',\n",
       "   '',\n",
       "   '631108',\n",
       "   '109.02',\n",
       "   '5',\n",
       "   '1',\n",
       "   '3',\n",
       "   'T',\n",
       "   'F',\n",
       "   'T',\n",
       "   '147',\n",
       "   '',\n",
       "   '0',\n",
       "   '0',\n",
       "   'Peoples House',\n",
       "   '16000'],\n",
       "  ['Sanmin',\n",
       "   'building',\n",
       "   '0',\n",
       "   'Business',\n",
       "   '1060828',\n",
       "   '0-1-0',\n",
       "   '14th',\n",
       "   '18',\n",
       "   'For Living',\n",
       "   '830523',\n",
       "   '116.64',\n",
       "   '4',\n",
       "   '2',\n",
       "   '2',\n",
       "   'T',\n",
       "   'T',\n",
       "   'T',\n",
       "   '154',\n",
       "   '',\n",
       "   '0',\n",
       "   '0',\n",
       "   'Residential building',\n",
       "   '18000'],\n",
       "  ['Lujhu',\n",
       "   'land-building',\n",
       "   '78.81',\n",
       "   'Live',\n",
       "   '1060918',\n",
       "   '1-1-0',\n",
       "   'All',\n",
       "   '4',\n",
       "   'For Business',\n",
       "   '811204',\n",
       "   '185.72',\n",
       "   '5',\n",
       "   '2',\n",
       "   '3',\n",
       "   'T',\n",
       "   'F',\n",
       "   'F',\n",
       "   '97',\n",
       "   '',\n",
       "   '0',\n",
       "   '0',\n",
       "   'Peoples House',\n",
       "   '18000'],\n",
       "  ['Xinxing',\n",
       "   'building',\n",
       "   '0',\n",
       "   'Business',\n",
       "   '1060911',\n",
       "   '0-1-0',\n",
       "   '12th',\n",
       "   '12',\n",
       "   'For Living',\n",
       "   '841214',\n",
       "   '168.88',\n",
       "   '0',\n",
       "   '0',\n",
       "   '0',\n",
       "   'F',\n",
       "   'F',\n",
       "   'F',\n",
       "   '113',\n",
       "   '',\n",
       "   '0',\n",
       "   '0',\n",
       "   'Office Commercial Building',\n",
       "   '19000'],\n",
       "  ['Xinxing',\n",
       "   'building',\n",
       "   '0',\n",
       "   'Business',\n",
       "   '1060917',\n",
       "   '0-1-0',\n",
       "   '1st',\n",
       "   '11',\n",
       "   '',\n",
       "   '690604',\n",
       "   '87.36',\n",
       "   '0',\n",
       "   '0',\n",
       "   '0',\n",
       "   'F',\n",
       "   'F',\n",
       "   'F',\n",
       "   '298',\n",
       "   '',\n",
       "   '0',\n",
       "   '0',\n",
       "   'Storefront',\n",
       "   '26000'],\n",
       "  ['Cianjhen',\n",
       "   'land-building',\n",
       "   '81',\n",
       "   'Live',\n",
       "   '1060901',\n",
       "   '1-1-0',\n",
       "   'All',\n",
       "   '4',\n",
       "   '',\n",
       "   '660131',\n",
       "   '219.96',\n",
       "   '6',\n",
       "   '2',\n",
       "   '3',\n",
       "   'T',\n",
       "   'F',\n",
       "   'T',\n",
       "   '127',\n",
       "   '',\n",
       "   '0',\n",
       "   '0',\n",
       "   'Peoples House',\n",
       "   '28000'],\n",
       "  ['Renwu',\n",
       "   'building',\n",
       "   '694.49',\n",
       "   'Live',\n",
       "   '1060829',\n",
       "   '0-1-0',\n",
       "   'All',\n",
       "   '4',\n",
       "   'Other',\n",
       "   '1060330',\n",
       "   '257.73',\n",
       "   '0',\n",
       "   '0',\n",
       "   '0',\n",
       "   'F',\n",
       "   'F',\n",
       "   'F',\n",
       "   '120',\n",
       "   '',\n",
       "   '0',\n",
       "   '0',\n",
       "   'Peoples House',\n",
       "   '31000']])"
      ]
     },
     "execution_count": 527,
     "metadata": {},
     "output_type": "execute_result"
    }
   ],
   "source": [
    "# divideset(rentData,22,'13500')\n",
    "divideset(rentData,1,'land-building-car')"
   ]
  },
  {
   "cell_type": "code",
   "execution_count": 528,
   "metadata": {
    "collapsed": true
   },
   "outputs": [],
   "source": [
    "# Create counts of possible results (the last column of \n",
    "# each row is the result)\n",
    "def uniquecounts(rows):\n",
    "   results={}\n",
    "   for row in rows:\n",
    "      # The result is the last column\n",
    "      r=row[len(row)-1]\n",
    "      if r not in results: results[r]=0\n",
    "      results[r]+=1\n",
    "   return results"
   ]
  },
  {
   "cell_type": "code",
   "execution_count": 529,
   "metadata": {
    "collapsed": true
   },
   "outputs": [],
   "source": [
    "# Probability that a randomly placed item will\n",
    "# be in the wrong category\n",
    "def giniimpurity(rows):\n",
    "  total=len(rows)\n",
    "  counts=uniquecounts(rows)\n",
    "  imp=0\n",
    "  for k1 in counts:\n",
    "    p1=float(counts[k1])/total\n",
    "    for k2 in counts:\n",
    "      if k1==k2: continue\n",
    "      p2=float(counts[k2])/total\n",
    "      imp+=p1*p2\n",
    "  return imp"
   ]
  },
  {
   "cell_type": "code",
   "execution_count": 530,
   "metadata": {
    "collapsed": true
   },
   "outputs": [],
   "source": [
    "# Entropy is the sum of p(x)log(p(x)) across all \n",
    "# the different possible results\n",
    "def entropy(rows):\n",
    "   from math import log\n",
    "   log2=lambda x:log(x)/log(2)  \n",
    "   results=uniquecounts(rows)\n",
    "   # Now calculate the entropy\n",
    "   ent=0.0\n",
    "   for r in results.keys():\n",
    "      p=float(results[r])/len(rows)\n",
    "      ent=ent-p*log2(p)\n",
    "   return ent"
   ]
  },
  {
   "cell_type": "code",
   "execution_count": 531,
   "metadata": {
    "collapsed": true
   },
   "outputs": [],
   "source": [
    "def variance(rows):\n",
    "  if len(rows)==0: return 0\n",
    "  data=[float(row[len(row)-1]) for row in rows]\n",
    "  mean=sum(data)/len(data)\n",
    "  variance=sum([(d-mean)**2 for d in data])/len(data)\n",
    "  return variance"
   ]
  },
  {
   "cell_type": "code",
   "execution_count": 532,
   "metadata": {},
   "outputs": [
    {
     "data": {
      "text/plain": [
       "0.8472222222222213"
      ]
     },
     "execution_count": 532,
     "metadata": {},
     "output_type": "execute_result"
    }
   ],
   "source": [
    "giniimpurity(rentData)"
   ]
  },
  {
   "cell_type": "code",
   "execution_count": 533,
   "metadata": {},
   "outputs": [
    {
     "data": {
      "text/plain": [
       "2.8553885422075336"
      ]
     },
     "execution_count": 533,
     "metadata": {},
     "output_type": "execute_result"
    }
   ],
   "source": [
    "entropy(rentData)"
   ]
  },
  {
   "cell_type": "code",
   "execution_count": 534,
   "metadata": {},
   "outputs": [
    {
     "data": {
      "text/plain": [
       "{'13500': 2,\n",
       " '15000': 3,\n",
       " '16000': 1,\n",
       " '18000': 2,\n",
       " '19000': 1,\n",
       " '26000': 1,\n",
       " '28000': 1,\n",
       " '31000': 1}"
      ]
     },
     "execution_count": 534,
     "metadata": {},
     "output_type": "execute_result"
    }
   ],
   "source": [
    "uniquecounts(rentData)"
   ]
  },
  {
   "cell_type": "code",
   "execution_count": 535,
   "metadata": {},
   "outputs": [],
   "source": [
    "set1,set2=divideset(rentData,1,'land-building-car')"
   ]
  },
  {
   "cell_type": "code",
   "execution_count": 536,
   "metadata": {},
   "outputs": [
    {
     "data": {
      "text/plain": [
       "1.0"
      ]
     },
     "execution_count": 536,
     "metadata": {},
     "output_type": "execute_result"
    }
   ],
   "source": [
    "entropy(set1)"
   ]
  },
  {
   "cell_type": "code",
   "execution_count": 537,
   "metadata": {},
   "outputs": [
    {
     "data": {
      "text/plain": [
       "2.9219280948873623"
      ]
     },
     "execution_count": 537,
     "metadata": {},
     "output_type": "execute_result"
    }
   ],
   "source": [
    "entropy(set2)"
   ]
  },
  {
   "cell_type": "code",
   "execution_count": 538,
   "metadata": {
    "collapsed": true
   },
   "outputs": [],
   "source": [
    "def buildtree(rows,scoref=entropy):\n",
    "  if len(rows)==0: return decisionnode()\n",
    "  current_score=scoref(rows)\n",
    "\n",
    "  # Set up some variables to track the best criteria\n",
    "  best_gain=0.0\n",
    "  best_criteria=None\n",
    "  best_sets=None\n",
    "  \n",
    "  column_count=len(rows[0])-1\n",
    "  for col in range(0,column_count):\n",
    "    # Generate the list of different values in\n",
    "    # this column\n",
    "    column_values={}\n",
    "    for row in rows:\n",
    "       column_values[row[col]]=1\n",
    "    # Now try dividing the rows up for each value\n",
    "    # in this column\n",
    "    for value in column_values.keys():\n",
    "      (set1,set2)=divideset(rows,col,value)\n",
    "      \n",
    "      # Information gain\n",
    "      p=float(len(set1))/len(rows)\n",
    "      gain=current_score-p*scoref(set1)-(1-p)*scoref(set2)\n",
    "      if gain>best_gain and len(set1)>0 and len(set2)>0:\n",
    "        best_gain=gain\n",
    "        best_criteria=(col,value)\n",
    "        best_sets=(set1,set2)\n",
    "  # Create the sub branches   \n",
    "  if best_gain>0:\n",
    "    trueBranch=buildtree(best_sets[0])\n",
    "    falseBranch=buildtree(best_sets[1])\n",
    "    return decisionnode(col=best_criteria[0],value=best_criteria[1],\n",
    "                        tb=trueBranch,fb=falseBranch)\n",
    "  else:\n",
    "    return decisionnode(results=uniquecounts(rows))"
   ]
  },
  {
   "cell_type": "code",
   "execution_count": 539,
   "metadata": {},
   "outputs": [],
   "source": [
    "dtree = buildtree(rentData)"
   ]
  },
  {
   "cell_type": "code",
   "execution_count": 540,
   "metadata": {
    "collapsed": true
   },
   "outputs": [],
   "source": [
    "def printtree(tree,indent=''):\n",
    "   # Is this a leaf node?\n",
    "   if tree.results!=None:\n",
    "      print (str(tree.results))\n",
    "   else:\n",
    "      # Print the criteria\n",
    "      print (str(tree.col)+':'+str(tree.value)+'? ')\n",
    "\n",
    "      # Print the branches\n",
    "      print (indent+'T->'),\n",
    "      printtree(tree.tb,indent+'  ')\n",
    "      print (indent+'F->'),\n",
    "      printtree(tree.fb,indent+'  ')\n",
    "\n",
    "\n",
    "def getwidth(tree):\n",
    "  if tree.tb==None and tree.fb==None: return 1\n",
    "  return getwidth(tree.tb)+getwidth(tree.fb)\n",
    "\n",
    "def getdepth(tree):\n",
    "  if tree.tb==None and tree.fb==None: return 0\n",
    "  return max(getdepth(tree.tb),getdepth(tree.fb))+1"
   ]
  },
  {
   "cell_type": "code",
   "execution_count": 541,
   "metadata": {},
   "outputs": [
    {
     "name": "stdout",
     "output_type": "stream",
     "text": [
      "1:building? \n",
      "T->\n",
      "0:Sanmin? \n",
      "  T->\n",
      "2:57? \n",
      "    T->\n",
      "{'16000': 1}\n",
      "    F->\n",
      "{'18000': 1}\n",
      "  F->\n",
      "0:Xinxing? \n",
      "    T->\n",
      "4:1060911? \n",
      "      T->\n",
      "{'19000': 1}\n",
      "      F->\n",
      "{'26000': 1}\n",
      "    F->\n",
      "{'31000': 1}\n",
      "F->\n",
      "7:4? \n",
      "  T->\n",
      "0:Lujhu? \n",
      "    T->\n",
      "{'18000': 1}\n",
      "    F->\n",
      "{'28000': 1}\n",
      "  F->\n",
      "4:1060916? \n",
      "    T->\n",
      "{'13500': 2}\n",
      "    F->\n",
      "{'15000': 3}\n"
     ]
    }
   ],
   "source": [
    "printtree(dtree)"
   ]
  },
  {
   "cell_type": "code",
   "execution_count": 542,
   "metadata": {
    "collapsed": true
   },
   "outputs": [],
   "source": [
    "from PIL import Image,ImageDraw\n",
    "\n",
    "def drawtree(tree,jpeg='tree.jpg'):\n",
    "  w=getwidth(tree)*100\n",
    "  h=getdepth(tree)*100+120\n",
    "\n",
    "  img=Image.new('RGB',(w,h),(255,255,255))\n",
    "  draw=ImageDraw.Draw(img)\n",
    "\n",
    "  drawnode(draw,tree,w/2,20)\n",
    "  img.save(jpeg,'JPEG')\n",
    "  \n",
    "def drawnode(draw,tree,x,y):\n",
    "  if tree.results==None:\n",
    "    # Get the width of each branch\n",
    "    w1=getwidth(tree.fb)*100\n",
    "    w2=getwidth(tree.tb)*100\n",
    "\n",
    "    # Determine the total space required by this node\n",
    "    left=x-(w1+w2)/2\n",
    "    right=x+(w1+w2)/2\n",
    "\n",
    "    # Draw the condition string\n",
    "    draw.text((x-20,y-10),str(tree.col)+':'+str(tree.value),(0,0,0))\n",
    "\n",
    "    # Draw links to the branches\n",
    "    draw.line((x,y,left+w1/2,y+100),fill=(255,0,0))\n",
    "    draw.line((x,y,right-w2/2,y+100),fill=(255,0,0))\n",
    "    \n",
    "    # Draw the branch nodes\n",
    "    drawnode(draw,tree.fb,left+w1/2,y+100)\n",
    "    drawnode(draw,tree.tb,right-w2/2,y+100)\n",
    "  else:\n",
    "    txt=' \\n'.join(['%s:%d'%v for v in tree.results.items()])\n",
    "    draw.text((x-20,y),txt,(0,0,0))"
   ]
  },
  {
   "cell_type": "code",
   "execution_count": 543,
   "metadata": {},
   "outputs": [],
   "source": [
    "drawtree(dtree,jpeg='treeview.jpg')"
   ]
  },
  {
   "cell_type": "code",
   "execution_count": 544,
   "metadata": {},
   "outputs": [
    {
     "data": {
      "image/jpeg": "[encoded data removed]",
      "text/plain": [
       "<IPython.core.display.Image object>"
      ]
     },
     "execution_count": 544,
     "metadata": {},
     "output_type": "execute_result"
    }
   ],
   "source": [
    "from IPython.display import Image\n",
    "Image(filename='treeview.jpg')"
   ]
  }
 ],
 "metadata": {
  "kernelspec": {
   "display_name": "Python 3",
   "language": "python",
   "name": "python3"
  },
  "language_info": {
   "codemirror_mode": {
    "name": "ipython",
    "version": 3
   },
   "file_extension": ".py",
   "mimetype": "text/x-python",
   "name": "python",
   "nbconvert_exporter": "python",
   "pygments_lexer": "ipython3",
   "version": "3.6.2"
  }
 },
 "nbformat": 4,
 "nbformat_minor": 2
}
