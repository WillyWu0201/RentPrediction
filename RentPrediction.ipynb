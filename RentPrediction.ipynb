{
 "cells": [
  {
   "cell_type": "code",
   "execution_count": 396,
   "metadata": {
    "collapsed": true
   },
   "outputs": [],
   "source": [
    "# !/usr/bin/python\n",
    "# -*- coding: utf-8 -*-\n",
    "from math import log\n",
    "from PIL import Image, ImageDraw\n",
    "from IPython.display import Image"
   ]
  },
  {
   "cell_type": "code",
   "execution_count": 397,
   "metadata": {},
   "outputs": [
    {
     "name": "stdout",
     "output_type": "stream",
     "text": [
      "12\n"
     ]
    }
   ],
   "source": [
    "# create ratings.dat dictionary\n",
    "rentOriginalData = open(\"./RentData/SmallTestData.csv\",\"r\")\n",
    "rentData = []\n",
    "\n",
    "for rent in rentOriginalData:\n",
    "    # 去掉\\n後，用,區分\n",
    "    rentData.append(rent.strip().split(','))\n",
    "\n",
    "print (len(rentData))"
   ]
  },
  {
   "cell_type": "code",
   "execution_count": 398,
   "metadata": {
    "collapsed": true
   },
   "outputs": [],
   "source": [
    "class decisionnode:\n",
    "  def __init__(self,col=-1,value=None,results=None,tb=None,fb=None):\n",
    "    self.col = col\n",
    "    self.value = value\n",
    "    self.results = results\n",
    "    self.tb = tb\n",
    "    self.fb = fb\n",
    "    \n",
    "    \n",
    "# Divides a set on a specific column. Can handle numeric\n",
    "# or nominal values\n",
    "def divideset(rows,column,value):\n",
    "   # Make a function that tells us if a row is in \n",
    "   # the first group (true) or the second group (false)\n",
    "   split_function = None\n",
    "   if isinstance(value,int) or isinstance(value,float):\n",
    "      split_function = lambda row:row[column] >= value\n",
    "   else:\n",
    "      split_function = lambda row:row[column] == value\n",
    "   \n",
    "   # Divide the rows into two sets and return them\n",
    "   set1=[row for row in rows if split_function(row)]\n",
    "   set2=[row for row in rows if not split_function(row)]\n",
    "   return (set1,set2)"
   ]
  },
  {
   "cell_type": "code",
   "execution_count": 399,
   "metadata": {},
   "outputs": [
    {
     "data": {
      "text/plain": [
       "([['1',\n",
       "   '1',\n",
       "   '52.92',\n",
       "   'Live',\n",
       "   '1060916',\n",
       "   'All',\n",
       "   '2',\n",
       "   '',\n",
       "   '750730',\n",
       "   '122.99',\n",
       "   '4',\n",
       "   '2',\n",
       "   '3',\n",
       "   'T',\n",
       "   'F',\n",
       "   'F',\n",
       "   '13500',\n",
       "   '110',\n",
       "   '',\n",
       "   '0',\n",
       "   '0',\n",
       "   'Peoples',\n",
       "   '13500'],\n",
       "  ['4',\n",
       "   '2',\n",
       "   '4.54',\n",
       "   'Live',\n",
       "   '1060916',\n",
       "   '28th',\n",
       "   '35',\n",
       "   'home',\n",
       "   '860421',\n",
       "   '133.92000000000002',\n",
       "   '3',\n",
       "   '2',\n",
       "   '2',\n",
       "   'T',\n",
       "   'T',\n",
       "   'T',\n",
       "   '13500',\n",
       "   '101',\n",
       "   'flat',\n",
       "   '12.65',\n",
       "   '0',\n",
       "   'Residential',\n",
       "   '13500']],\n",
       " [['1',\n",
       "   '1',\n",
       "   '81',\n",
       "   'Live',\n",
       "   '1060901',\n",
       "   'All',\n",
       "   '4',\n",
       "   '',\n",
       "   '660131',\n",
       "   '219.96',\n",
       "   '6',\n",
       "   '2',\n",
       "   '3',\n",
       "   'T',\n",
       "   'F',\n",
       "   'T',\n",
       "   '28000',\n",
       "   '127',\n",
       "   '',\n",
       "   '0',\n",
       "   '0',\n",
       "   'Peoples',\n",
       "   '28000'],\n",
       "  ['2',\n",
       "   '3',\n",
       "   '0',\n",
       "   'Business',\n",
       "   '1060828',\n",
       "   '14th',\n",
       "   '18',\n",
       "   'home',\n",
       "   '830523',\n",
       "   '116.64',\n",
       "   '4',\n",
       "   '2',\n",
       "   '2',\n",
       "   'T',\n",
       "   'T',\n",
       "   'T',\n",
       "   '18000',\n",
       "   '154',\n",
       "   '',\n",
       "   '0',\n",
       "   '0',\n",
       "   'Residential',\n",
       "   '18000'],\n",
       "  ['2',\n",
       "   '3',\n",
       "   '57',\n",
       "   'Live',\n",
       "   '1060916',\n",
       "   'All',\n",
       "   '3',\n",
       "   '',\n",
       "   '631108',\n",
       "   '109.02',\n",
       "   '5',\n",
       "   '1',\n",
       "   '3',\n",
       "   'T',\n",
       "   'F',\n",
       "   'T',\n",
       "   '16000',\n",
       "   '147',\n",
       "   '',\n",
       "   '0',\n",
       "   '0',\n",
       "   'Peoples',\n",
       "   '16000'],\n",
       "  ['3',\n",
       "   '3',\n",
       "   '0',\n",
       "   'Business',\n",
       "   '1060917',\n",
       "   '1st',\n",
       "   '11',\n",
       "   '',\n",
       "   '690604',\n",
       "   '87.36',\n",
       "   '0',\n",
       "   '0',\n",
       "   '0',\n",
       "   'F',\n",
       "   'F',\n",
       "   'F',\n",
       "   '26000',\n",
       "   '298',\n",
       "   '',\n",
       "   '0',\n",
       "   '0',\n",
       "   'Storefront',\n",
       "   '26000'],\n",
       "  ['3',\n",
       "   '3',\n",
       "   '0',\n",
       "   'Business',\n",
       "   '1060911',\n",
       "   '12th',\n",
       "   '12',\n",
       "   'home',\n",
       "   '841214',\n",
       "   '168.88',\n",
       "   '0',\n",
       "   '0',\n",
       "   '0',\n",
       "   'F',\n",
       "   'F',\n",
       "   'F',\n",
       "   '19000',\n",
       "   '113',\n",
       "   '',\n",
       "   '0',\n",
       "   '0',\n",
       "   'Office Commercial',\n",
       "   '19000'],\n",
       "  ['5',\n",
       "   '1',\n",
       "   '55.52',\n",
       "   'Live',\n",
       "   '1060820',\n",
       "   'All',\n",
       "   '5',\n",
       "   'commercial',\n",
       "   '930713',\n",
       "   '27.14',\n",
       "   '0',\n",
       "   '0',\n",
       "   '1',\n",
       "   'T',\n",
       "   'F',\n",
       "   'F',\n",
       "   '15000',\n",
       "   '553',\n",
       "   '',\n",
       "   '0',\n",
       "   '0',\n",
       "   'Peoples',\n",
       "   '15000'],\n",
       "  ['5',\n",
       "   '1',\n",
       "   '55.52',\n",
       "   'Live',\n",
       "   '1060820',\n",
       "   'All',\n",
       "   '5',\n",
       "   'commercial',\n",
       "   '930713',\n",
       "   '153.27',\n",
       "   '6',\n",
       "   '2',\n",
       "   '3',\n",
       "   'T',\n",
       "   'F',\n",
       "   'F',\n",
       "   '15000',\n",
       "   '98',\n",
       "   '',\n",
       "   '0',\n",
       "   '0',\n",
       "   'Peoples',\n",
       "   '15000'],\n",
       "  ['6',\n",
       "   '2',\n",
       "   '9.97',\n",
       "   'Business',\n",
       "   '1060915',\n",
       "   '6th',\n",
       "   '15',\n",
       "   'other',\n",
       "   '1050224',\n",
       "   '130.46',\n",
       "   '2',\n",
       "   '2',\n",
       "   '2',\n",
       "   'T',\n",
       "   'T',\n",
       "   'T',\n",
       "   '15000',\n",
       "   '115',\n",
       "   'mechanical',\n",
       "   '0',\n",
       "   '0',\n",
       "   'Residential',\n",
       "   '15000'],\n",
       "  ['7',\n",
       "   '1',\n",
       "   '78.81',\n",
       "   'Live',\n",
       "   '1060918',\n",
       "   'All',\n",
       "   '4',\n",
       "   'commercial',\n",
       "   '811204',\n",
       "   '185.72',\n",
       "   '5',\n",
       "   '2',\n",
       "   '3',\n",
       "   'T',\n",
       "   'F',\n",
       "   'F',\n",
       "   '18000',\n",
       "   '97',\n",
       "   '',\n",
       "   '0',\n",
       "   '0',\n",
       "   'Peoples',\n",
       "   '18000'],\n",
       "  ['8',\n",
       "   '3',\n",
       "   '694.49',\n",
       "   'Live',\n",
       "   '1060829',\n",
       "   'All',\n",
       "   '4',\n",
       "   'other',\n",
       "   '1060330',\n",
       "   '257.73',\n",
       "   '0',\n",
       "   '0',\n",
       "   '0',\n",
       "   'F',\n",
       "   'F',\n",
       "   'F',\n",
       "   '31000',\n",
       "   '120',\n",
       "   '',\n",
       "   '0',\n",
       "   '0',\n",
       "   'Peoples',\n",
       "   '31000']])"
      ]
     },
     "execution_count": 399,
     "metadata": {},
     "output_type": "execute_result"
    }
   ],
   "source": [
    "divideset(rentData,22,'13500')\n",
    "# divideset(rentData,4,'Basic')"
   ]
  },
  {
   "cell_type": "code",
   "execution_count": 400,
   "metadata": {
    "collapsed": true
   },
   "outputs": [],
   "source": [
    "# Create counts of possible results (the last column of \n",
    "# each row is the result)\n",
    "def uniquecounts(rows):\n",
    "   results={}\n",
    "   for row in rows:\n",
    "      # The result is the last column\n",
    "      r=row[len(row)-1]\n",
    "      if r not in results: results[r]=0\n",
    "      results[r]+=1\n",
    "   return results"
   ]
  },
  {
   "cell_type": "code",
   "execution_count": 401,
   "metadata": {
    "collapsed": true
   },
   "outputs": [],
   "source": [
    "# Probability that a randomly placed item will\n",
    "# be in the wrong category\n",
    "def giniimpurity(rows):\n",
    "  total=len(rows)\n",
    "  counts=uniquecounts(rows)\n",
    "  imp=0\n",
    "  for k1 in counts:\n",
    "    p1=float(counts[k1])/total\n",
    "    for k2 in counts:\n",
    "      if k1==k2: continue\n",
    "      p2=float(counts[k2])/total\n",
    "      imp+=p1*p2\n",
    "  return imp"
   ]
  },
  {
   "cell_type": "code",
   "execution_count": 402,
   "metadata": {
    "collapsed": true
   },
   "outputs": [],
   "source": [
    "# Entropy is the sum of p(x)log(p(x)) across all \n",
    "# the different possible results\n",
    "def entropy(rows):\n",
    "   from math import log\n",
    "   log2=lambda x:log(x)/log(2)  \n",
    "   results=uniquecounts(rows)\n",
    "   # Now calculate the entropy\n",
    "   ent=0.0\n",
    "   for r in results.keys():\n",
    "      p=float(results[r])/len(rows)\n",
    "      ent=ent-p*log2(p)\n",
    "   return ent"
   ]
  },
  {
   "cell_type": "code",
   "execution_count": 403,
   "metadata": {
    "collapsed": true
   },
   "outputs": [],
   "source": [
    "def variance(rows):\n",
    "  if len(rows)==0: return 0\n",
    "  data=[float(row[len(row)-1]) for row in rows]\n",
    "  mean=sum(data)/len(data)\n",
    "  variance=sum([(d-mean)**2 for d in data])/len(data)\n",
    "  return variance"
   ]
  },
  {
   "cell_type": "code",
   "execution_count": 404,
   "metadata": {},
   "outputs": [
    {
     "data": {
      "text/plain": [
       "0.847222222222222"
      ]
     },
     "execution_count": 404,
     "metadata": {},
     "output_type": "execute_result"
    }
   ],
   "source": [
    "giniimpurity(rentData)"
   ]
  },
  {
   "cell_type": "code",
   "execution_count": 405,
   "metadata": {},
   "outputs": [
    {
     "data": {
      "text/plain": [
       "2.8553885422075336"
      ]
     },
     "execution_count": 405,
     "metadata": {},
     "output_type": "execute_result"
    }
   ],
   "source": [
    "entropy(rentData)"
   ]
  },
  {
   "cell_type": "code",
   "execution_count": 406,
   "metadata": {},
   "outputs": [
    {
     "data": {
      "text/plain": [
       "{'13500': 2,\n",
       " '15000': 3,\n",
       " '16000': 1,\n",
       " '18000': 2,\n",
       " '19000': 1,\n",
       " '26000': 1,\n",
       " '28000': 1,\n",
       " '31000': 1}"
      ]
     },
     "execution_count": 406,
     "metadata": {},
     "output_type": "execute_result"
    }
   ],
   "source": [
    "uniquecounts(rentData)"
   ]
  },
  {
   "cell_type": "code",
   "execution_count": 407,
   "metadata": {},
   "outputs": [],
   "source": [
    "set1,set2=divideset(rentData,22,'13500')\n",
    "# set1,set2=divideset(rentData,4,'Basic')"
   ]
  },
  {
   "cell_type": "code",
   "execution_count": 408,
   "metadata": {},
   "outputs": [
    {
     "data": {
      "text/plain": [
       "0.0"
      ]
     },
     "execution_count": 408,
     "metadata": {},
     "output_type": "execute_result"
    }
   ],
   "source": [
    "entropy(set1)"
   ]
  },
  {
   "cell_type": "code",
   "execution_count": 409,
   "metadata": {},
   "outputs": [
    {
     "data": {
      "text/plain": [
       "2.6464393446710157"
      ]
     },
     "execution_count": 409,
     "metadata": {},
     "output_type": "execute_result"
    }
   ],
   "source": [
    "entropy(set2)"
   ]
  },
  {
   "cell_type": "code",
   "execution_count": 410,
   "metadata": {
    "collapsed": true
   },
   "outputs": [],
   "source": [
    "def buildtree(rows,scoref=entropy):\n",
    "  if len(rows)==0: return decisionnode()\n",
    "  current_score=scoref(rows)\n",
    "\n",
    "  # Set up some variables to track the best criteria\n",
    "  best_gain=0.0\n",
    "  best_criteria=None\n",
    "  best_sets=None\n",
    "  \n",
    "  column_count=len(rows[0])-1\n",
    "  for col in range(0,column_count):\n",
    "    # Generate the list of different values in\n",
    "    # this column\n",
    "    column_values={}\n",
    "    for row in rows:\n",
    "       column_values[row[col]]=1\n",
    "    # Now try dividing the rows up for each value\n",
    "    # in this column\n",
    "    for value in column_values.keys():\n",
    "      (set1,set2)=divideset(rows,col,value)\n",
    "      \n",
    "      # Information gain\n",
    "      p=float(len(set1))/len(rows)\n",
    "      gain=current_score-p*scoref(set1)-(1-p)*scoref(set2)\n",
    "      if gain>best_gain and len(set1)>0 and len(set2)>0:\n",
    "        best_gain=gain\n",
    "        best_criteria=(col,value)\n",
    "        best_sets=(set1,set2)\n",
    "  # Create the sub branches   \n",
    "  if best_gain>0:\n",
    "    trueBranch=buildtree(best_sets[0])\n",
    "    falseBranch=buildtree(best_sets[1])\n",
    "    return decisionnode(col=best_criteria[0],value=best_criteria[1],\n",
    "                        tb=trueBranch,fb=falseBranch)\n",
    "  else:\n",
    "    return decisionnode(results=uniquecounts(rows))"
   ]
  },
  {
   "cell_type": "code",
   "execution_count": 411,
   "metadata": {},
   "outputs": [],
   "source": [
    "dtree = buildtree(rentData)"
   ]
  },
  {
   "cell_type": "code",
   "execution_count": 412,
   "metadata": {
    "collapsed": true
   },
   "outputs": [],
   "source": [
    "def printtree(tree,indent=''):\n",
    "   # Is this a leaf node?\n",
    "   if tree.results!=None:\n",
    "      print (str(tree.results))\n",
    "   else:\n",
    "      # Print the criteria\n",
    "      print (str(tree.col)+':'+str(tree.value)+'? ')\n",
    "\n",
    "      # Print the branches\n",
    "      print (indent+'T->'),\n",
    "      printtree(tree.tb,indent+'  ')\n",
    "      print (indent+'F->'),\n",
    "      printtree(tree.fb,indent+'  ')\n",
    "\n",
    "\n",
    "def getwidth(tree):\n",
    "  if tree.tb==None and tree.fb==None: return 1\n",
    "  return getwidth(tree.tb)+getwidth(tree.fb)\n",
    "\n",
    "def getdepth(tree):\n",
    "  if tree.tb==None and tree.fb==None: return 0\n",
    "  return max(getdepth(tree.tb),getdepth(tree.fb))+1"
   ]
  },
  {
   "cell_type": "code",
   "execution_count": 413,
   "metadata": {},
   "outputs": [
    {
     "name": "stdout",
     "output_type": "stream",
     "text": [
      "1:3? \n",
      "T->\n",
      "0:2? \n",
      "  T->\n",
      "2:0? \n",
      "    T->\n",
      "{'18000': 1}\n",
      "    F->\n",
      "{'16000': 1}\n",
      "  F->\n",
      "0:3? \n",
      "    T->\n",
      "4:1060917? \n",
      "      T->\n",
      "{'26000': 1}\n",
      "      F->\n",
      "{'19000': 1}\n",
      "    F->\n",
      "{'31000': 1}\n",
      "F->\n",
      "16:15000? \n",
      "  T->\n",
      "{'15000': 3}\n",
      "  F->\n",
      "4:1060916? \n",
      "    T->\n",
      "{'13500': 2}\n",
      "    F->\n",
      "0:1? \n",
      "      T->\n",
      "{'28000': 1}\n",
      "      F->\n",
      "{'18000': 1}\n"
     ]
    }
   ],
   "source": [
    "printtree(dtree)"
   ]
  },
  {
   "cell_type": "code",
   "execution_count": 414,
   "metadata": {
    "collapsed": true
   },
   "outputs": [],
   "source": [
    "from PIL import Image,ImageDraw\n",
    "\n",
    "def drawtree(tree,jpeg='tree.jpg'):\n",
    "  w=getwidth(tree)*100\n",
    "  h=getdepth(tree)*100+120\n",
    "\n",
    "  img=Image.new('RGB',(w,h),(255,255,255))\n",
    "  draw=ImageDraw.Draw(img)\n",
    "\n",
    "  drawnode(draw,tree,w/2,20)\n",
    "  img.save(jpeg,'JPEG')\n",
    "  \n",
    "def drawnode(draw,tree,x,y):\n",
    "  if tree.results==None:\n",
    "    # Get the width of each branch\n",
    "    w1=getwidth(tree.fb)*100\n",
    "    w2=getwidth(tree.tb)*100\n",
    "\n",
    "    # Determine the total space required by this node\n",
    "    left=x-(w1+w2)/2\n",
    "    right=x+(w1+w2)/2\n",
    "\n",
    "    # Draw the condition string\n",
    "    draw.text((x-20,y-10),str(tree.col)+':'+str(tree.value),(0,0,0))\n",
    "\n",
    "    # Draw links to the branches\n",
    "    draw.line((x,y,left+w1/2,y+100),fill=(255,0,0))\n",
    "    draw.line((x,y,right-w2/2,y+100),fill=(255,0,0))\n",
    "    \n",
    "    # Draw the branch nodes\n",
    "    drawnode(draw,tree.fb,left+w1/2,y+100)\n",
    "    drawnode(draw,tree.tb,right-w2/2,y+100)\n",
    "  else:\n",
    "    txt=' \\n'.join(['%s:%d'%v for v in tree.results.items()])\n",
    "    draw.text((x-20,y),txt,(0,0,0))"
   ]
  },
  {
   "cell_type": "code",
   "execution_count": 415,
   "metadata": {},
   "outputs": [],
   "source": [
    "drawtree(dtree,jpeg='treeview.jpg')"
   ]
  },
  {
   "cell_type": "code",
   "execution_count": 416,
   "metadata": {},
   "outputs": [
    {
     "data": {
      "image/jpeg": "[encoded data removed]",
      "text/plain": [
       "<IPython.core.display.Image object>"
      ]
     },
     "execution_count": 416,
     "metadata": {},
     "output_type": "execute_result"
    }
   ],
   "source": [
    "from IPython.display import Image\n",
    "Image(filename='treeview.jpg')"
   ]
  }
 ],
 "metadata": {
  "kernelspec": {
   "display_name": "Python 3",
   "language": "python",
   "name": "python3"
  },
  "language_info": {
   "codemirror_mode": {
    "name": "ipython",
    "version": 3
   },
   "file_extension": ".py",
   "mimetype": "text/x-python",
   "name": "python",
   "nbconvert_exporter": "python",
   "pygments_lexer": "ipython3",
   "version": "3.6.2"
  }
 },
 "nbformat": 4,
 "nbformat_minor": 2
}
